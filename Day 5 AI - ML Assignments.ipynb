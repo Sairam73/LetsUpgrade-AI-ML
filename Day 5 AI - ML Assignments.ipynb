{
 "cells": [
  {
   "cell_type": "raw",
   "metadata": {},
   "source": [
    "Write a Python program to find the first 20 non-even prime natural numbers."
   ]
  },
  {
   "cell_type": "code",
   "execution_count": 1,
   "metadata": {},
   "outputs": [
    {
     "name": "stdout",
     "output_type": "stream",
     "text": [
      "3 5 7 9 11 13 15 17 19 21 23 25 27 29 31 33 35 37 39 41 "
     ]
    }
   ],
   "source": [
    "j = 1\n",
    "for num in range (0,100):\n",
    "    if j!=21:\n",
    "        if num >1:\n",
    "            for i in range (2,num):\n",
    "                if num%i == 0:\n",
    "                    break\n",
    "                else:\n",
    "                    if num%2 == 0:\n",
    "                        break\n",
    "                    else:\n",
    "                        print(num,end=\" \")\n",
    "                        j += 1\n",
    "                        break"
   ]
  },
  {
   "cell_type": "raw",
   "metadata": {},
   "source": [
    "Write a Python program to implement 15 functions of string."
   ]
  },
  {
   "cell_type": "code",
   "execution_count": 2,
   "metadata": {},
   "outputs": [
    {
     "name": "stdout",
     "output_type": "stream",
     "text": [
      "Casefold Function: hello world {py} - characters gets converted to small letters\n",
      "Capitalize Function: Hello world {py} - Characters gets Capitalized\n",
      "Center Function: *******HELLO WORLD {py}******* - Return a centered string of length width.\n",
      "Count Function: 2 - Returns Occurences\n",
      "Encode Function: b'HELLO WORLD {py}' -Encodes special characters\n",
      "Endswith Function: False - Returns true or false for specified suffix\n",
      "Find Function: 8 - Returns the position value of character in the string\n",
      "Format function: HELLO WORLD OF PYTHON - inserts values\n",
      "Index function: 13 - displays index value\n",
      "isalpha function: False - checks for alpha character and returns true\n",
      "isupper function: False - returns True if all character in string is upper\n",
      "split function: ['HELLO', 'WORLD', '{py}'] - splits the string using seperator mentioned in argument\n",
      "upper function: HELLO WORLD {PY} - returns upper cased string\n",
      "islower function: False - returns True if all character in string is lower\n",
      "startswith Function: True - Returns true or false for specified prefix\n"
     ]
    }
   ],
   "source": [
    "a = \"HELLO WORLD {py}\"\n",
    "a1 = a.casefold()\n",
    "print(\"Casefold Function:\",a1,\"- characters gets converted to small letters\")\n",
    "a2 = a.capitalize()\n",
    "print(\"Capitalize Function:\",a2,\"- Characters gets Capitalized\")\n",
    "a3 = a.center(30,\"*\")\n",
    "print(\"Center Function:\",a3,\"- Return a centered string of length width.\")\n",
    "a4 = a.count(\"O\")\n",
    "print(\"Count Function:\",a4,\"- Returns Occurences\")\n",
    "a5 = a.encode(encoding='UTF-8',errors=\"replace\")\n",
    "print(\"Encode Function:\",a5,\"-Encodes special characters\")\n",
    "a6 = a.endswith(\"D\")\n",
    "print(\"Endswith Function:\",a6,\"- Returns true or false for specified suffix\")\n",
    "a7 = a.find(\"R\")\n",
    "print(\"Find Function:\",a7,\"- Returns the position value of character in the string\")\n",
    "a8 = a.format(py = \"OF PYTHON\")\n",
    "print(\"Format function:\",a8,\"- inserts values\")\n",
    "a9 = a.index(\"p\")\n",
    "print(\"Index function:\",a9,\"- displays index value\")\n",
    "a10 = a.isalpha()\n",
    "print(\"isalpha function:\",a10,\"- checks for alpha character and returns true\")\n",
    "a11 = a.isupper()\n",
    "print(\"isupper function:\",a11,\"- returns True if all character in string is upper\")\n",
    "a12 = a.split()\n",
    "print(\"split function:\",a12,\"- splits the string using seperator mentioned in argument\")\n",
    "a13 = a.upper()\n",
    "print(\"upper function:\",a13,\"- returns upper cased string\")\n",
    "a14 = a.islower()\n",
    "print(\"islower function:\",a14,\"- returns True if all character in string is lower\")\n",
    "a15 = a.startswith(\"H\")\n",
    "print(\"startswith Function:\",a15,\"- Returns true or false for specified prefix\")"
   ]
  },
  {
   "cell_type": "raw",
   "metadata": {},
   "source": [
    "Write a Python program to check if the given string is a Palindrome or Anagram or None of them.\n",
    "Display the message accordingly to the user."
   ]
  },
  {
   "cell_type": "code",
   "execution_count": 3,
   "metadata": {},
   "outputs": [
    {
     "name": "stdout",
     "output_type": "stream",
     "text": [
      "Enter the word :Malayalam\n",
      "Entered string is a Palindrome\n"
     ]
    }
   ],
   "source": [
    "a = input(\"Enter the word :\").lower()\n",
    "b = reversed(a)\n",
    "if list(a)==list(b):\n",
    "    print (\"Entered string is a Palindrome\")\n",
    "elif list(a).sort() == list(b).sort():\n",
    "    print(\"Entered string is a Anagram\")\n",
    "else:\n",
    "    print(\"None of them\")"
   ]
  },
  {
   "cell_type": "raw",
   "metadata": {},
   "source": [
    "Write a Python's user defined function that removes all the additional characters from the string\n",
    "and converts it finally to lower case using built-in lower()"
   ]
  },
  {
   "cell_type": "code",
   "execution_count": 9,
   "metadata": {},
   "outputs": [
    {
     "name": "stdout",
     "output_type": "stream",
     "text": [
      "Enter the string to be converted:Im @ work\n",
      "imwork\n"
     ]
    }
   ],
   "source": [
    "a = input(\"Enter the string to be converted:\")\n",
    "b = \"\"\n",
    "for i in list(a):\n",
    "    if i.isalnum():\n",
    "        b += i\n",
    "print(b.lower())"
   ]
  }
 ],
 "metadata": {
  "kernelspec": {
   "display_name": "Python 3",
   "language": "python",
   "name": "python3"
  },
  "language_info": {
   "codemirror_mode": {
    "name": "ipython",
    "version": 3
   },
   "file_extension": ".py",
   "mimetype": "text/x-python",
   "name": "python",
   "nbconvert_exporter": "python",
   "pygments_lexer": "ipython3",
   "version": "3.7.6"
  }
 },
 "nbformat": 4,
 "nbformat_minor": 4
}
