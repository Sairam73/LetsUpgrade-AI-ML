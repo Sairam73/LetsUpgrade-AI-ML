{
 "cells": [
  {
   "cell_type": "raw",
   "metadata": {},
   "source": [
    "Research on whether addition, subtraction, multiplication, division, floor division and modulo\n",
    "operations be performed on complex numbers. Based on your study, implement a Python\n",
    "program to demonstrate these operations."
   ]
  },
  {
   "cell_type": "code",
   "execution_count": 4,
   "metadata": {},
   "outputs": [
    {
     "name": "stdout",
     "output_type": "stream",
     "text": [
      "Addition of complex numbers is : (13+11j)\n",
      "Subtraction of complex number is : (3-1j)\n",
      "Multiplication of complex number is : (10+73j)\n",
      "Division of complex number is : (1.1475409836065573-0.37704918032786877j)\n",
      "Floor division and modulo cannot be calculated for complex numbers\n"
     ]
    }
   ],
   "source": [
    "a = 8+5j\n",
    "b = 5+6j\n",
    "add = a+b\n",
    "sub = a-b\n",
    "multiply = a*b\n",
    "div = a/b\n",
    "print(\"Addition of complex numbers is :\",add)\n",
    "print(\"Subtraction of complex number is :\",sub)\n",
    "print(\"Multiplication of complex number is :\",multiply)\n",
    "print(\"Division of complex number is :\",div)\n",
    "print(\"Floor division and modulo cannot be calculated for complex numbers\")"
   ]
  },
  {
   "cell_type": "raw",
   "metadata": {},
   "source": [
    "Research on range() functions and its parameters. Create a markdown cell and write in your own\n",
    "words (no copy-paste from google please) what you understand about it. Implement a small\n",
    "program of your choice on the same."
   ]
  },
  {
   "cell_type": "markdown",
   "metadata": {},
   "source": [
    "1. range() requires two arguments a) starting integer b) ending integer\n",
    "2. In range() function the ending integer decrements value by 1 as range starts from 0 by default (i.e) if range(10) - 0,1,2,3,4,5,6,7,8,9."
   ]
  },
  {
   "cell_type": "code",
   "execution_count": 10,
   "metadata": {},
   "outputs": [
    {
     "name": "stdout",
     "output_type": "stream",
     "text": [
      "0123456789"
     ]
    }
   ],
   "source": [
    "for i in range (0,10):\n",
    "    print(i,end=\"\")"
   ]
  },
  {
   "cell_type": "raw",
   "metadata": {},
   "source": [
    "Consider two numbers. Perform their subtraction and if the result of subtraction is greater than\n",
    "25, print their multiplication result else print their division result"
   ]
  },
  {
   "cell_type": "code",
   "execution_count": 15,
   "metadata": {},
   "outputs": [
    {
     "name": "stdout",
     "output_type": "stream",
     "text": [
      "100\n",
      "25\n",
      "Multiplication result : 2500\n"
     ]
    }
   ],
   "source": [
    "a = int(input())\n",
    "b = int(input())\n",
    "if (a-b)>25:\n",
    "    print(\"Multiplication result :\",a*b)\n",
    "else:\n",
    "    print(\"Division result :\",a/b)"
   ]
  },
  {
   "cell_type": "raw",
   "metadata": {},
   "source": [
    "Consider a list of 10 elements of integer values. If the number in the list is divisible by 2, print the\n",
    "result as \"square of that number minus 2\"."
   ]
  },
  {
   "cell_type": "code",
   "execution_count": 17,
   "metadata": {},
   "outputs": [
    {
     "name": "stdout",
     "output_type": "stream",
     "text": [
      "Result of 12 is : 142\n",
      "Result of 4 is : 14\n",
      "Result of 28 is : 782\n",
      "Result of 24 is : 574\n",
      "Result of 84 is : 7054\n"
     ]
    }
   ],
   "source": [
    "lst = [12,25,4,51,28,45,71,67,24,84]\n",
    "for i in range (len(lst)):\n",
    "    if (lst[i]%2==0):\n",
    "        result = lst[i]**2-2        #PEDMAS\n",
    "        print(\"Result of\",lst[i],\"is :\",result)"
   ]
  },
  {
   "cell_type": "raw",
   "metadata": {},
   "source": [
    "Consider a list of 10 elements. Print all the elements in the list which are greater than 7 when that\n",
    "number is divided 2."
   ]
  },
  {
   "cell_type": "code",
   "execution_count": 18,
   "metadata": {},
   "outputs": [
    {
     "name": "stdout",
     "output_type": "stream",
     "text": [
      "55\n",
      "46\n",
      "51\n",
      "26\n"
     ]
    }
   ],
   "source": [
    "a = [55,2,46,51,9,8,26,14,11,6]\n",
    "for i in range (len(a)):\n",
    "    if a[i]/2 > 7:\n",
    "        print(a[i])"
   ]
  }
 ],
 "metadata": {
  "kernelspec": {
   "display_name": "Python 3",
   "language": "python",
   "name": "python3"
  },
  "language_info": {
   "codemirror_mode": {
    "name": "ipython",
    "version": 3
   },
   "file_extension": ".py",
   "mimetype": "text/x-python",
   "name": "python",
   "nbconvert_exporter": "python",
   "pygments_lexer": "ipython3",
   "version": "3.7.6"
  }
 },
 "nbformat": 4,
 "nbformat_minor": 4
}
