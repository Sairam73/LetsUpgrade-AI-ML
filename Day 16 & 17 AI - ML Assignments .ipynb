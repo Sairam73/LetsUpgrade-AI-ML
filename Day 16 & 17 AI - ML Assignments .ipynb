{
 "cells": [
  {
   "cell_type": "code",
   "execution_count": 1,
   "metadata": {},
   "outputs": [
    {
     "data": {
      "text/html": [
       "<div>\n",
       "<style scoped>\n",
       "    .dataframe tbody tr th:only-of-type {\n",
       "        vertical-align: middle;\n",
       "    }\n",
       "\n",
       "    .dataframe tbody tr th {\n",
       "        vertical-align: top;\n",
       "    }\n",
       "\n",
       "    .dataframe thead th {\n",
       "        text-align: right;\n",
       "    }\n",
       "</style>\n",
       "<table border=\"1\" class=\"dataframe\">\n",
       "  <thead>\n",
       "    <tr style=\"text-align: right;\">\n",
       "      <th></th>\n",
       "      <th>title</th>\n",
       "      <th>year</th>\n",
       "    </tr>\n",
       "  </thead>\n",
       "  <tbody>\n",
       "    <tr>\n",
       "      <th>0</th>\n",
       "      <td>Tasveer Mere Sanam</td>\n",
       "      <td>1996</td>\n",
       "    </tr>\n",
       "    <tr>\n",
       "      <th>1</th>\n",
       "      <td>Only You</td>\n",
       "      <td>1994</td>\n",
       "    </tr>\n",
       "    <tr>\n",
       "      <th>2</th>\n",
       "      <td>El pueblo del terror</td>\n",
       "      <td>1970</td>\n",
       "    </tr>\n",
       "    <tr>\n",
       "      <th>3</th>\n",
       "      <td>Machine</td>\n",
       "      <td>2007</td>\n",
       "    </tr>\n",
       "    <tr>\n",
       "      <th>4</th>\n",
       "      <td>MARy</td>\n",
       "      <td>2008</td>\n",
       "    </tr>\n",
       "    <tr>\n",
       "      <th>5</th>\n",
       "      <td>Tight Spot</td>\n",
       "      <td>1955</td>\n",
       "    </tr>\n",
       "    <tr>\n",
       "      <th>6</th>\n",
       "      <td>Chocolate (II)</td>\n",
       "      <td>2011</td>\n",
       "    </tr>\n",
       "    <tr>\n",
       "      <th>7</th>\n",
       "      <td>Wang de Shengyan</td>\n",
       "      <td>2012</td>\n",
       "    </tr>\n",
       "    <tr>\n",
       "      <th>8</th>\n",
       "      <td>Bao dao mei ren</td>\n",
       "      <td>1956</td>\n",
       "    </tr>\n",
       "    <tr>\n",
       "      <th>9</th>\n",
       "      <td>A Man Called Nereus</td>\n",
       "      <td>2012</td>\n",
       "    </tr>\n",
       "  </tbody>\n",
       "</table>\n",
       "</div>"
      ],
      "text/plain": [
       "                  title  year\n",
       "0    Tasveer Mere Sanam  1996\n",
       "1              Only You  1994\n",
       "2  El pueblo del terror  1970\n",
       "3               Machine  2007\n",
       "4                  MARy  2008\n",
       "5            Tight Spot  1955\n",
       "6        Chocolate (II)  2011\n",
       "7      Wang de Shengyan  2012\n",
       "8       Bao dao mei ren  1956\n",
       "9   A Man Called Nereus  2012"
      ]
     },
     "execution_count": 1,
     "metadata": {},
     "output_type": "execute_result"
    }
   ],
   "source": [
    "import pandas as pd\n",
    "import numpy as np\n",
    "data = pd.read_csv(\"C:/Users/sairam/Documents/aiml/LU Govinth/day 16 & 17/titles.csv\")\n",
    "data.head(10)"
   ]
  },
  {
   "cell_type": "markdown",
   "metadata": {
    "collapsed": true
   },
   "source": [
    "### How many movies are listed in the titles dataframe?"
   ]
  },
  {
   "cell_type": "code",
   "execution_count": 2,
   "metadata": {},
   "outputs": [
    {
     "data": {
      "text/plain": [
       "244914"
      ]
     },
     "execution_count": 2,
     "metadata": {},
     "output_type": "execute_result"
    }
   ],
   "source": [
    "len(data['title'])"
   ]
  },
  {
   "cell_type": "markdown",
   "metadata": {
    "collapsed": true
   },
   "source": [
    "### What are the earliest two films listed in the titles dataframe?"
   ]
  },
  {
   "cell_type": "code",
   "execution_count": 3,
   "metadata": {},
   "outputs": [
    {
     "name": "stdout",
     "output_type": "stream",
     "text": [
      "                     title  year\n",
      "193222          Miss Jerry  1894\n",
      "51388   The Startled Lover  1898\n"
     ]
    }
   ],
   "source": [
    "d2 = data.sort_values('year',ascending=True)\n",
    "print(d2.head(2))"
   ]
  },
  {
   "cell_type": "markdown",
   "metadata": {
    "collapsed": true
   },
   "source": [
    "### How many movies have the title \"Hamlet\"?"
   ]
  },
  {
   "cell_type": "code",
   "execution_count": 4,
   "metadata": {},
   "outputs": [
    {
     "name": "stdout",
     "output_type": "stream",
     "text": [
      "No. of movies named Hamlet are: 20\n"
     ]
    }
   ],
   "source": [
    "d = data.set_index('title').loc['Hamlet']\n",
    "print(\"No. of movies named Hamlet are:\",len(d))"
   ]
  },
  {
   "cell_type": "markdown",
   "metadata": {
    "collapsed": true
   },
   "source": [
    "### How many movies are titled \"North by Northwest\"?"
   ]
  },
  {
   "cell_type": "code",
   "execution_count": 5,
   "metadata": {},
   "outputs": [
    {
     "name": "stdout",
     "output_type": "stream",
     "text": [
      "1\n"
     ]
    }
   ],
   "source": [
    "d1 = data.set_index('title').loc['North by Northwest']\n",
    "print(len(d1))"
   ]
  },
  {
   "cell_type": "markdown",
   "metadata": {
    "collapsed": true
   },
   "source": [
    "### When was the first movie titled \"Hamlet\" made?"
   ]
  },
  {
   "cell_type": "code",
   "execution_count": 6,
   "metadata": {},
   "outputs": [
    {
     "name": "stdout",
     "output_type": "stream",
     "text": [
      "        year\n",
      "title       \n",
      "Hamlet  1910\n"
     ]
    }
   ],
   "source": [
    "fm = d.sort_values('year',ascending=True)\n",
    "print(fm.head(1))"
   ]
  },
  {
   "cell_type": "markdown",
   "metadata": {
    "collapsed": true
   },
   "source": [
    "### List all of the \"Treasure Island\" movies from earliest to most recent."
   ]
  },
  {
   "cell_type": "code",
   "execution_count": 7,
   "metadata": {},
   "outputs": [
    {
     "name": "stdout",
     "output_type": "stream",
     "text": [
      "                 year\n",
      "title                \n",
      "Treasure Island  1999\n",
      "Treasure Island  1973\n",
      "Treasure Island  1918\n",
      "Treasure Island  1972\n",
      "Treasure Island  1950\n",
      "Treasure Island  1934\n",
      "Treasure Island  1985\n",
      "Treasure Island  1920\n"
     ]
    }
   ],
   "source": [
    "TI = data.set_index('title').loc['Treasure Island']\n",
    "print(TI)"
   ]
  },
  {
   "cell_type": "markdown",
   "metadata": {
    "collapsed": true
   },
   "source": [
    "### How many movies were made in the year 1950?"
   ]
  },
  {
   "cell_type": "code",
   "execution_count": 8,
   "metadata": {},
   "outputs": [
    {
     "name": "stdout",
     "output_type": "stream",
     "text": [
      "1113\n"
     ]
    }
   ],
   "source": [
    "data = pd.read_csv(\"C:/Users/sairam/Documents/aiml/LU Govinth/day 16 & 17/titles.csv\")\n",
    "Year = data.set_index('year').loc[1950]\n",
    "print(len(Year))"
   ]
  },
  {
   "cell_type": "markdown",
   "metadata": {
    "collapsed": true
   },
   "source": [
    "### How many movies were made in the year 1960?"
   ]
  },
  {
   "cell_type": "code",
   "execution_count": 9,
   "metadata": {},
   "outputs": [
    {
     "name": "stdout",
     "output_type": "stream",
     "text": [
      "1549\n"
     ]
    }
   ],
   "source": [
    "Year1 = data.set_index('year').loc[1960]\n",
    "print(len(Year1))"
   ]
  },
  {
   "cell_type": "markdown",
   "metadata": {
    "collapsed": true
   },
   "source": [
    "### How many movies were made from 1950 through 1959?"
   ]
  },
  {
   "cell_type": "markdown",
   "metadata": {},
   "source": []
  },
  {
   "cell_type": "code",
   "execution_count": 10,
   "metadata": {},
   "outputs": [
    {
     "name": "stdout",
     "output_type": "stream",
     "text": [
      "12934\n"
     ]
    }
   ],
   "source": [
    "mov = (data['year'] > 1949) & (data['year'] < 1960)\n",
    "x = data.loc[mov]\n",
    "print(len(x))"
   ]
  },
  {
   "cell_type": "markdown",
   "metadata": {
    "collapsed": true
   },
   "source": [
    "### In what years has a movie titled \"Batman\" been released?"
   ]
  },
  {
   "cell_type": "code",
   "execution_count": 11,
   "metadata": {},
   "outputs": [
    {
     "data": {
      "text/html": [
       "<div>\n",
       "<style scoped>\n",
       "    .dataframe tbody tr th:only-of-type {\n",
       "        vertical-align: middle;\n",
       "    }\n",
       "\n",
       "    .dataframe tbody tr th {\n",
       "        vertical-align: top;\n",
       "    }\n",
       "\n",
       "    .dataframe thead th {\n",
       "        text-align: right;\n",
       "    }\n",
       "</style>\n",
       "<table border=\"1\" class=\"dataframe\">\n",
       "  <thead>\n",
       "    <tr style=\"text-align: right;\">\n",
       "      <th></th>\n",
       "      <th>year</th>\n",
       "    </tr>\n",
       "    <tr>\n",
       "      <th>title</th>\n",
       "      <th></th>\n",
       "    </tr>\n",
       "  </thead>\n",
       "  <tbody>\n",
       "    <tr>\n",
       "      <th>Batman</th>\n",
       "      <td>1943</td>\n",
       "    </tr>\n",
       "    <tr>\n",
       "      <th>Batman</th>\n",
       "      <td>1989</td>\n",
       "    </tr>\n",
       "  </tbody>\n",
       "</table>\n",
       "</div>"
      ],
      "text/plain": [
       "        year\n",
       "title       \n",
       "Batman  1943\n",
       "Batman  1989"
      ]
     },
     "execution_count": 11,
     "metadata": {},
     "output_type": "execute_result"
    }
   ],
   "source": [
    "bat = data.set_index('title').loc[\"Batman\"]\n",
    "bat"
   ]
  },
  {
   "cell_type": "code",
   "execution_count": 12,
   "metadata": {},
   "outputs": [
    {
     "data": {
      "text/html": [
       "<div>\n",
       "<style scoped>\n",
       "    .dataframe tbody tr th:only-of-type {\n",
       "        vertical-align: middle;\n",
       "    }\n",
       "\n",
       "    .dataframe tbody tr th {\n",
       "        vertical-align: top;\n",
       "    }\n",
       "\n",
       "    .dataframe thead th {\n",
       "        text-align: right;\n",
       "    }\n",
       "</style>\n",
       "<table border=\"1\" class=\"dataframe\">\n",
       "  <thead>\n",
       "    <tr style=\"text-align: right;\">\n",
       "      <th></th>\n",
       "      <th>title</th>\n",
       "      <th>year</th>\n",
       "      <th>name</th>\n",
       "      <th>type</th>\n",
       "      <th>character</th>\n",
       "      <th>n</th>\n",
       "    </tr>\n",
       "  </thead>\n",
       "  <tbody>\n",
       "    <tr>\n",
       "      <th>0</th>\n",
       "      <td>Closet Monster</td>\n",
       "      <td>2015</td>\n",
       "      <td>Buffy #1</td>\n",
       "      <td>actor</td>\n",
       "      <td>Buffy 4</td>\n",
       "      <td>31.0</td>\n",
       "    </tr>\n",
       "    <tr>\n",
       "      <th>1</th>\n",
       "      <td>Suuri illusioni</td>\n",
       "      <td>1985</td>\n",
       "      <td>Homo $</td>\n",
       "      <td>actor</td>\n",
       "      <td>Guests</td>\n",
       "      <td>22.0</td>\n",
       "    </tr>\n",
       "    <tr>\n",
       "      <th>2</th>\n",
       "      <td>Battle of the Sexes</td>\n",
       "      <td>2017</td>\n",
       "      <td>$hutter</td>\n",
       "      <td>actor</td>\n",
       "      <td>Bobby Riggs Fan</td>\n",
       "      <td>10.0</td>\n",
       "    </tr>\n",
       "    <tr>\n",
       "      <th>3</th>\n",
       "      <td>Secret in Their Eyes</td>\n",
       "      <td>2015</td>\n",
       "      <td>$hutter</td>\n",
       "      <td>actor</td>\n",
       "      <td>2002 Dodger Fan</td>\n",
       "      <td>NaN</td>\n",
       "    </tr>\n",
       "    <tr>\n",
       "      <th>4</th>\n",
       "      <td>Steve Jobs</td>\n",
       "      <td>2015</td>\n",
       "      <td>$hutter</td>\n",
       "      <td>actor</td>\n",
       "      <td>1988 Opera House Patron</td>\n",
       "      <td>NaN</td>\n",
       "    </tr>\n",
       "    <tr>\n",
       "      <th>...</th>\n",
       "      <td>...</td>\n",
       "      <td>...</td>\n",
       "      <td>...</td>\n",
       "      <td>...</td>\n",
       "      <td>...</td>\n",
       "      <td>...</td>\n",
       "    </tr>\n",
       "    <tr>\n",
       "      <th>3786171</th>\n",
       "      <td>Foxtrot</td>\n",
       "      <td>1988</td>\n",
       "      <td>Lilja ??risd?ttir</td>\n",
       "      <td>actress</td>\n",
       "      <td>D?ra</td>\n",
       "      <td>24.0</td>\n",
       "    </tr>\n",
       "    <tr>\n",
       "      <th>3786172</th>\n",
       "      <td>Niceland (Population. 1.000.002)</td>\n",
       "      <td>2004</td>\n",
       "      <td>Sigr??ur J?na ??risd?ttir</td>\n",
       "      <td>actress</td>\n",
       "      <td>Woman in Bus</td>\n",
       "      <td>26.0</td>\n",
       "    </tr>\n",
       "    <tr>\n",
       "      <th>3786173</th>\n",
       "      <td>Skammdegi</td>\n",
       "      <td>1985</td>\n",
       "      <td>Dalla ??r?ard?ttir</td>\n",
       "      <td>actress</td>\n",
       "      <td>Hj?krunarkona</td>\n",
       "      <td>9.0</td>\n",
       "    </tr>\n",
       "    <tr>\n",
       "      <th>3786174</th>\n",
       "      <td>U.S.S.S.S...</td>\n",
       "      <td>2003</td>\n",
       "      <td>Krist?n Andrea ??r?ard?ttir</td>\n",
       "      <td>actress</td>\n",
       "      <td>Afgr.dama ? bens?nst??</td>\n",
       "      <td>17.0</td>\n",
       "    </tr>\n",
       "    <tr>\n",
       "      <th>3786175</th>\n",
       "      <td>Bye Bye Blue Bird</td>\n",
       "      <td>1999</td>\n",
       "      <td>Rosa ? R?gvu</td>\n",
       "      <td>actress</td>\n",
       "      <td>Pensionatv?rtinde</td>\n",
       "      <td>NaN</td>\n",
       "    </tr>\n",
       "  </tbody>\n",
       "</table>\n",
       "<p>3786176 rows × 6 columns</p>\n",
       "</div>"
      ],
      "text/plain": [
       "                                    title  year                         name  \\\n",
       "0                          Closet Monster  2015                     Buffy #1   \n",
       "1                         Suuri illusioni  1985                       Homo $   \n",
       "2                     Battle of the Sexes  2017                      $hutter   \n",
       "3                    Secret in Their Eyes  2015                      $hutter   \n",
       "4                              Steve Jobs  2015                      $hutter   \n",
       "...                                   ...   ...                          ...   \n",
       "3786171                           Foxtrot  1988            Lilja ??risd?ttir   \n",
       "3786172  Niceland (Population. 1.000.002)  2004    Sigr??ur J?na ??risd?ttir   \n",
       "3786173                         Skammdegi  1985           Dalla ??r?ard?ttir   \n",
       "3786174                      U.S.S.S.S...  2003  Krist?n Andrea ??r?ard?ttir   \n",
       "3786175                 Bye Bye Blue Bird  1999                 Rosa ? R?gvu   \n",
       "\n",
       "            type                character     n  \n",
       "0          actor                  Buffy 4  31.0  \n",
       "1          actor                   Guests  22.0  \n",
       "2          actor          Bobby Riggs Fan  10.0  \n",
       "3          actor          2002 Dodger Fan   NaN  \n",
       "4          actor  1988 Opera House Patron   NaN  \n",
       "...          ...                      ...   ...  \n",
       "3786171  actress                     D?ra  24.0  \n",
       "3786172  actress             Woman in Bus  26.0  \n",
       "3786173  actress            Hj?krunarkona   9.0  \n",
       "3786174  actress   Afgr.dama ? bens?nst??  17.0  \n",
       "3786175  actress        Pensionatv?rtinde   NaN  \n",
       "\n",
       "[3786176 rows x 6 columns]"
      ]
     },
     "execution_count": 12,
     "metadata": {},
     "output_type": "execute_result"
    }
   ],
   "source": [
    "cast = pd.read_csv(\"C:/Users/sairam/Documents/aiml/LU Govinth/day 16 & 17/cast.csv\")\n",
    "cast"
   ]
  },
  {
   "cell_type": "code",
   "execution_count": 13,
   "metadata": {},
   "outputs": [
    {
     "data": {
      "text/plain": [
       "3786176"
      ]
     },
     "execution_count": 13,
     "metadata": {},
     "output_type": "execute_result"
    }
   ],
   "source": [
    "len(cast['title'])"
   ]
  },
  {
   "cell_type": "markdown",
   "metadata": {
    "collapsed": true
   },
   "source": [
    "### How many roles were there in the movie \"Inception\"?"
   ]
  },
  {
   "cell_type": "code",
   "execution_count": 14,
   "metadata": {},
   "outputs": [
    {
     "data": {
      "text/plain": [
       "78"
      ]
     },
     "execution_count": 14,
     "metadata": {},
     "output_type": "execute_result"
    }
   ],
   "source": [
    "role = (cast['title']=='Inception')\n",
    "z = cast.loc[role]\n",
    "len(z)"
   ]
  },
  {
   "cell_type": "markdown",
   "metadata": {
    "collapsed": true
   },
   "source": [
    "### How many roles in the movie \"Inception\" are NOT ranked by an \"n\" value?"
   ]
  },
  {
   "cell_type": "code",
   "execution_count": 15,
   "metadata": {},
   "outputs": [
    {
     "name": "stdout",
     "output_type": "stream",
     "text": [
      "27\n"
     ]
    }
   ],
   "source": [
    "notval = (z['n'].isna())\n",
    "print(notval.sum())"
   ]
  },
  {
   "cell_type": "markdown",
   "metadata": {
    "collapsed": true
   },
   "source": [
    "### But how many roles in the movie \"Inception\" did receive an \"n\" value?"
   ]
  },
  {
   "cell_type": "code",
   "execution_count": 16,
   "metadata": {},
   "outputs": [
    {
     "name": "stdout",
     "output_type": "stream",
     "text": [
      "51\n"
     ]
    }
   ],
   "source": [
    "nval = (z['n'].notnull())\n",
    "print(nval.sum())"
   ]
  },
  {
   "cell_type": "markdown",
   "metadata": {
    "collapsed": true
   },
   "source": [
    "### Display the cast of \"North by Northwest\" in their correct \"n\"-value order, ignoring roles that did not earn a numeric \"n\" value."
   ]
  },
  {
   "cell_type": "code",
   "execution_count": 17,
   "metadata": {},
   "outputs": [
    {
     "name": "stdout",
     "output_type": "stream",
     "text": [
      "['Cary Grant', 'Eva Marie Saint', 'James Mason', 'Jessie Royce Landis', 'Leo G. Carroll', 'Josephine Hutchinson', 'Philip Ober', 'Martin Landau', 'Adam Williams', 'Edward Platt', 'Robert Ellenstein', 'Les Tremayne', 'Philip Coolidge', 'Patrick McVey', 'Edward Binns', 'Ken Lynch']\n"
     ]
    }
   ],
   "source": [
    "cast_nn = (cast['title']=='North by Northwest')\n",
    "x= cast.loc[cast_nn]\n",
    "dump = x.dropna()\n",
    "dump = dump.sort_values('n',ascending = True)\n",
    "out = dump['name']\n",
    "print(list(out))"
   ]
  },
  {
   "cell_type": "markdown",
   "metadata": {
    "collapsed": true
   },
   "source": [
    "### Display the entire cast, in \"n\"-order, of the 1972 film \"Sleuth\"."
   ]
  },
  {
   "cell_type": "code",
   "execution_count": 18,
   "metadata": {},
   "outputs": [
    {
     "name": "stdout",
     "output_type": "stream",
     "text": [
      "['Laurence Olivier', 'Michael Caine', 'Alec Cawthorne', 'John (II) Matthews', 'Eve (III) Channing', 'Teddy Martin']\n"
     ]
    }
   ],
   "source": [
    "cast_n = (cast['year']==1972)\n",
    "cast_n = cast.loc[cast_n]\n",
    "x = (cast_n['title']=='Sleuth')\n",
    "x = cast_n.loc[x]\n",
    "x = x.sort_values('n',ascending = True)\n",
    "print(list(x['name']))"
   ]
  },
  {
   "cell_type": "code",
   "execution_count": null,
   "metadata": {},
   "outputs": [],
   "source": []
  },
  {
   "cell_type": "markdown",
   "metadata": {
    "collapsed": true
   },
   "source": [
    "### Now display the entire cast, in \"n\"-order, of the 2007 version of \"Sleuth\"."
   ]
  },
  {
   "cell_type": "code",
   "execution_count": 19,
   "metadata": {},
   "outputs": [
    {
     "name": "stdout",
     "output_type": "stream",
     "text": [
      "['Michael Caine', 'Jude Law', 'Harold Pinter']\n"
     ]
    }
   ],
   "source": [
    "sl_07 = ((cast['year']==2007) & (cast['title']=='Sleuth'))\n",
    "sl_07 = cast.loc[sl_07]\n",
    "sl_07 = (sl_07.sort_values('n',ascending = True)).dropna()\n",
    "print(list(sl_07['name']))"
   ]
  },
  {
   "cell_type": "code",
   "execution_count": null,
   "metadata": {},
   "outputs": [],
   "source": []
  },
  {
   "cell_type": "markdown",
   "metadata": {
    "collapsed": true
   },
   "source": [
    "### How many roles were credited in the silent 1921 version of Hamlet?"
   ]
  },
  {
   "cell_type": "code",
   "execution_count": 20,
   "metadata": {},
   "outputs": [
    {
     "name": "stdout",
     "output_type": "stream",
     "text": [
      "['Fortinbras,', 'K?nig Hamlet', 'Laertes', 'Polonius', 'Horatio', 'Claudius', 'K?nigin Gertrude', 'Ophelia', 'Hamlet']\n"
     ]
    }
   ],
   "source": [
    "ham_1921 = ((cast['title']=='Hamlet') & (cast['year']==1921)) \n",
    "ham_1921 = cast.loc[ham_1921]\n",
    "print(list(ham_1921['character']))\n"
   ]
  },
  {
   "cell_type": "code",
   "execution_count": null,
   "metadata": {},
   "outputs": [],
   "source": []
  },
  {
   "cell_type": "markdown",
   "metadata": {
    "collapsed": true
   },
   "source": [
    "### How many roles were credited in Branagh’s 1996 Hamlet?"
   ]
  },
  {
   "cell_type": "code",
   "execution_count": 21,
   "metadata": {},
   "outputs": [
    {
     "name": "stdout",
     "output_type": "stream",
     "text": [
      "1\n"
     ]
    }
   ],
   "source": [
    "bran_1996 = ((cast['title']=='Hamlet') & (cast['year']==1996) & (cast['name'] == 'Kenneth Branagh'))\n",
    " \n",
    "bran_1996  = cast.loc[bran_1996]\n",
    "print(len(bran_1996['character']))\n"
   ]
  },
  {
   "cell_type": "code",
   "execution_count": null,
   "metadata": {},
   "outputs": [],
   "source": []
  },
  {
   "cell_type": "markdown",
   "metadata": {
    "collapsed": true
   },
   "source": [
    "### How many \"Hamlet\" roles have been listed in all film credits through history?"
   ]
  },
  {
   "cell_type": "code",
   "execution_count": 22,
   "metadata": {},
   "outputs": [
    {
     "name": "stdout",
     "output_type": "stream",
     "text": [
      "['Attendant to Claudius', 'Fortinbras,', 'Laertes', 'Player', 'Reynaldo', 'Fortinbras', 'Cornelius', 'Second Gravedigger', 'English Ambassador', 'Second Player', 'Bernardo', 'Marcellus', 'Rosencrantz', 'Horatio', 'English Ambassador', 'The Royal Court Of Denmark - Polonius,Lord Chamberlain', 'Polonius', 'Osric', 'Claudius', 'Second Gravedigger', 'Royal Hound', 'Fortinbras', 'Fortinbras', 'Attendant to Claudius', \"Ghost of Hamlet's Father\", 'Cadet in Play', 'Hamlet', 'Polonius', 'Priest', 'Hamlet', 'Polonius', 'Bit Part', 'Attendant to Claudius', 'Polonius', 'Ghost ', ' Player King', 'Gravedigger', 'Horatio', 'Laertes Mob', 'Player King', 'The Players', 'Butler', 'Francisco', 'Hamlet', 'Priest', 'K?nig Hamlet', 'Horatio', 'Voltimand', 'Polonius', 'Polonius', 'First Gravedigger', 'Player Queen', 'Laertes', 'Guildenstern', 'Osric', 'Stage Manager', 'Norwegian captain', 'Laertes', 'Claudius', 'Reynaldo', 'Polonius', 'Horatio', 'Guildenstern', 'Reynaldo', 'Yorick', \"Ghost Of Hamlet's Father\", 'Claudius', 'Francisco', 'Francisco', 'Fortinbras', 'Lucianus', 'Old Fortinbras', 'Captain', 'Francisco', 'Reynaldo', 'Osric', \" Fortinbras's Captain\", 'The Players', 'Player Queen', 'Player Queen', 'Horatio', 'Francisco', 'Special Guest Appearance', 'Kissing Man', 'Hamlet', 'Rosencrantz', 'Polonius', 'Osric', 'Lucianus', 'Horatio', 'Messenger', 'Hamlet', 'Ghost', 'Priam', 'Hamlet', 'Guildenstern', 'Special Guest Appearance', 'Lucianus', 'Special Guest Appearance', 'Messenger', 'Marcellus', 'Rosencrantz', 'Special Guest Appearance', 'Lord', 'Hamlet', 'Osric', 'Claudius, King of Denmark', 'Claudius', 'Player King', 'Player Prologue', 'Claudius', 'Palace Nobleman', 'Gravedigger', 'Polonius', 'Claudius', 'Marcellus', 'Priest', 'Bernardo', 'Osric', 'Guildenstern', 'Cornelius', 'Horatio', 'Claudius', 'Osric', 'Courtier', 'Polonius', \"Fortinbras's Captain\", 'Bernardo', 'Special Guest Appearance', 'Horatio', 'Francisco', 'Spear Carrier', 'Marcellus', 'First Player', 'Gravedigger', 'Extra', 'Rosencrantz', 'Reynaldo', 'Horatio', 'Laertes', 'Lucianus (in \"The Murder of Gonzago\")', 'Extra', 'Sea Captain', 'Claudius', 'Extra', 'Player King', 'Elsinore Courtier', 'Rosencrantz', 'Laertes', 'Special Guest Appearance', \"Claudius' Bodyguard\", 'Barnardo', 'Osric', 'Hamlet', 'Special Guest Appearance', 'Hamlet', 'The Players', 'Hamlet', 'Laertes', 'Hamlet', 'Laertes', 'Horatio', 'Old Norway', 'Sailor Two', 'Priest', 'Pyrrhus', 'The Royal Court Of Denmark - Laertes,his Son', 'Hamlet', 'Polonius', 'Guildenstern', 'Polonius', 'Barnardo', 'Flight Captain', 'Hamlet', 'Francisco', 'Reynaldo', 'Priest', 'Voltemand', 'The Royal Court Of Denmark - Hamlet,Prince of Denmark', 'Laertes', 'The Gravedigger', 'Second Gravedigger', 'Laertes', 'Player King', 'Horatio', 'Special Guest Appearance', 'Marcellus', 'Attendant', '1st Sailor', 'Hamlet', 'Guildenstern', 'The Ghost', 'Bernardo', 'Player', 'Bodyguard', 'Claudius', 'Marcellus', 'King Hamlet', 'The Priest', 'Special Guest Appearance', 'Special Guest Appearance', 'Polonius', 'First Gravedigger', 'Guildenstern', 'Rosencrantz', 'Rosencrants', 'First Gravedigger', 'Hamlet', 'Young Lord', 'Laertes', 'Polonius', 'The Ghost', 'Laertes', 'Boatman', 'Fortinbras', 'Laertes', 'Horatio', 'Ghost', 'Player Queen', 'Lucianus', '1st Player', 'Claudius', 'Ghost', 'Guildenstern', 'Guildenstern', 'Rosencrantz', 'Claudius', \"Fortinbras's Captain\", 'Rosencrantz', 'Claudius', 'Gentleman', 'Horatio', 'Bernardo', 'Osric', 'Player Queen', 'Laertes', 'Claudius - The King', 'Young Hamlet', 'Player Queen', 'First Player', 'Priest', 'Guildenstern', 'Priest', 'Policeman', 'Barnardo', 'Player King', 'Claudius', 'Player King', 'Voltimand', 'Bernardo', 'First Player', 'Osric', 'Hamlet', 'Claudius', 'The Royal Court Of Denmark - Horatio, his Friend', 'Gravedigger', 'Claudius', 'Sailor One', 'The Players', 'Bernardo', 'Alexander', 'Rosencrantz', 'Laertes', 'Laertes', 'Diretora da Pe?a', 'Gertrude', 'The Players', 'Marcella', 'Player King', 'Lady', 'Polonia', 'Ophelia', 'Gertrude', 'K?nigin Gertrude', 'Margaret', '1st Gravedigger', 'Ophelia', 'Ophelia', 'Gertrude', 'Gertrude', 'Special Guest Appearance', 'Lady of the Court', 'Hecuba', 'Special Guest Appearance', 'Attendant to Gertrude', 'Ophelia', 'Ophelia', 'Special Guest Appearance', 'Doctor', 'Ophelia', 'Special Guest Appearance', 'Ophelia', 'Player Queen', 'Gertrude - The Queen', 'Gertrude', 'Ophelia', 'Gertrude', 'Court Lady', 'Ophelia', 'Blockbuster Clerk', 'Gertrude, Queen of Denmark', 'Attendant to Gertrude', 'Gertrude', 'Attendant to Gertrude', 'Extra', 'Ophelia', 'Marcella', 'Ophelia', 'Gertrude', 'Gertrude', 'Rosencrantz', '2nd Gravedigger', 'Player Queen', 'Messenger', 'Ophelia', 'Gertrude', 'Hamlet', 'Special Guest Appearance', 'Gertrude', 'Hamlet', 'The Players', 'Prologue', 'Prostitute', 'Special Guest Appearance', 'Gertrude', 'Player Queen', 'Ophelia', 'Secretary', 'Osric', 'Ophelia - and Daughter', 'The Players', 'The Players', 'Ophelia', 'Ophelia', 'Gertrude', 'Lady', 'Marcellus', 'Court lady', 'Gertrude', 'Second Player', 'Ophelia', 'Ophelia']\n"
     ]
    }
   ],
   "source": [
    "ham = (cast['title']=='Hamlet')\n",
    "ham = cast.loc[ham]\n",
    "print(list(ham['character']))"
   ]
  },
  {
   "cell_type": "code",
   "execution_count": null,
   "metadata": {},
   "outputs": [],
   "source": []
  },
  {
   "cell_type": "markdown",
   "metadata": {
    "collapsed": true
   },
   "source": [
    "### How many people have played an \"Ophelia\"?"
   ]
  },
  {
   "cell_type": "code",
   "execution_count": 23,
   "metadata": {},
   "outputs": [
    {
     "name": "stdout",
     "output_type": "stream",
     "text": [
      "117\n"
     ]
    }
   ],
   "source": [
    "ophelia = (cast['character']=='Ophelia')\n",
    "ophelia = cast.loc[ophelia]\n",
    "print(len(ophelia))"
   ]
  },
  {
   "cell_type": "code",
   "execution_count": null,
   "metadata": {},
   "outputs": [],
   "source": []
  },
  {
   "cell_type": "markdown",
   "metadata": {
    "collapsed": true
   },
   "source": [
    "### How many people have played a role called \"The Dude\"?"
   ]
  },
  {
   "cell_type": "code",
   "execution_count": 24,
   "metadata": {},
   "outputs": [
    {
     "name": "stdout",
     "output_type": "stream",
     "text": [
      "19\n"
     ]
    }
   ],
   "source": [
    "dude = (cast['character']=='The Dude')\n",
    "dude = cast.loc[dude]\n",
    "print(len(dude))"
   ]
  },
  {
   "cell_type": "code",
   "execution_count": null,
   "metadata": {},
   "outputs": [],
   "source": []
  },
  {
   "cell_type": "markdown",
   "metadata": {
    "collapsed": true
   },
   "source": [
    "### How many people have played a role called \"The Stranger\"?"
   ]
  },
  {
   "cell_type": "code",
   "execution_count": 25,
   "metadata": {},
   "outputs": [
    {
     "name": "stdout",
     "output_type": "stream",
     "text": [
      "212\n"
     ]
    }
   ],
   "source": [
    "stranger = (cast['character'] == 'The Stranger')\n",
    "stranger = cast.loc[stranger]\n",
    "print(len(stranger))"
   ]
  },
  {
   "cell_type": "code",
   "execution_count": null,
   "metadata": {},
   "outputs": [],
   "source": []
  },
  {
   "cell_type": "markdown",
   "metadata": {
    "collapsed": true
   },
   "source": [
    "### How many roles has Sidney Poitier played throughout his career?"
   ]
  },
  {
   "cell_type": "code",
   "execution_count": 26,
   "metadata": {},
   "outputs": [
    {
     "name": "stdout",
     "output_type": "stream",
     "text": [
      "1\n"
     ]
    }
   ],
   "source": [
    "sp = (cast['character']=='Sidney Poitier')\n",
    "sp = cast.loc[sp]\n",
    "print(len(sp))"
   ]
  },
  {
   "cell_type": "code",
   "execution_count": null,
   "metadata": {},
   "outputs": [],
   "source": []
  },
  {
   "cell_type": "markdown",
   "metadata": {
    "collapsed": true
   },
   "source": [
    "### How many roles has Judi Dench played?"
   ]
  },
  {
   "cell_type": "code",
   "execution_count": 27,
   "metadata": {},
   "outputs": [
    {
     "name": "stdout",
     "output_type": "stream",
     "text": [
      "55\n"
     ]
    }
   ],
   "source": [
    "jd = (cast['name']=='Judi Dench')\n",
    "jd = cast.loc[jd]\n",
    "print(len(jd))"
   ]
  },
  {
   "cell_type": "code",
   "execution_count": null,
   "metadata": {},
   "outputs": [],
   "source": []
  },
  {
   "cell_type": "markdown",
   "metadata": {
    "collapsed": true
   },
   "source": [
    "### List the supporting roles (having n=2) played by Cary Grant in the 1940s, in order by year."
   ]
  },
  {
   "cell_type": "code",
   "execution_count": 28,
   "metadata": {},
   "outputs": [
    {
     "name": "stdout",
     "output_type": "stream",
     "text": [
      "['Nick Arden', 'Roger Adams']\n"
     ]
    }
   ],
   "source": [
    "cg = ((cast['name']=='Cary Grant')&(cast['year']>=1940)&(cast['n']==2))\n",
    "cg = cast.loc[cg]\n",
    "print(list(cg['character']))"
   ]
  },
  {
   "cell_type": "code",
   "execution_count": null,
   "metadata": {},
   "outputs": [],
   "source": []
  },
  {
   "cell_type": "markdown",
   "metadata": {
    "collapsed": true
   },
   "source": [
    "### List the leading roles that Cary Grant played in the 1940s in order by year."
   ]
  },
  {
   "cell_type": "code",
   "execution_count": 29,
   "metadata": {},
   "outputs": [
    {
     "name": "stdout",
     "output_type": "stream",
     "text": [
      "['Matt Howard', 'Walter Burns', 'C. K. Dexter Haven', 'Johnnie Aysgarth', 'Leopold Dilg', \"Patrick 'Pat' O'Toole\", 'Capt. Cassidy', 'Joe Adams -posing as Joe Bascopolous', 'Jerry Flynn', 'Mortimer Brewster', 'Ernie Mott', 'Cole Porter', 'Devlin', 'Dick Nugent', 'Dudley', 'Jim Blandings', 'Dr. Madison Brown', 'Captain Henri Rochard']\n"
     ]
    }
   ],
   "source": [
    "cg_lead = ((cast['name']=='Cary Grant')&(cast['year']>=1940)&(cast['year']<1950)&(cast['n']==1))\n",
    "cg_lead = cast.loc[cg_lead]\n",
    "cg_lead = cg_lead.sort_values('year',ascending = True)\n",
    "print(list(cg_lead['character']))"
   ]
  },
  {
   "cell_type": "code",
   "execution_count": null,
   "metadata": {},
   "outputs": [],
   "source": []
  },
  {
   "cell_type": "markdown",
   "metadata": {
    "collapsed": true
   },
   "source": [
    "### How many roles were available for actors in the 1950s?"
   ]
  },
  {
   "cell_type": "code",
   "execution_count": 30,
   "metadata": {},
   "outputs": [
    {
     "name": "stdout",
     "output_type": "stream",
     "text": [
      "157738\n"
     ]
    }
   ],
   "source": [
    "roles = ((cast['year']>=1950)&(cast['year']<1960)&(cast['type']=='actor'))\n",
    "roles = cast.loc[roles]\n",
    "print(len(roles))"
   ]
  },
  {
   "cell_type": "code",
   "execution_count": null,
   "metadata": {},
   "outputs": [],
   "source": []
  },
  {
   "cell_type": "markdown",
   "metadata": {
    "collapsed": true
   },
   "source": [
    "### How many roles were available for actresses in the 1950s?"
   ]
  },
  {
   "cell_type": "code",
   "execution_count": 31,
   "metadata": {},
   "outputs": [
    {
     "name": "stdout",
     "output_type": "stream",
     "text": [
      "57733\n"
     ]
    }
   ],
   "source": [
    "f_roles = ((cast['year']>=1950)&(cast['year']<1960)&(cast['type']=='actress'))\n",
    "f_roles = cast.loc[f_roles]\n",
    "print(len(f_roles))"
   ]
  },
  {
   "cell_type": "code",
   "execution_count": null,
   "metadata": {},
   "outputs": [],
   "source": []
  },
  {
   "cell_type": "markdown",
   "metadata": {
    "collapsed": true
   },
   "source": [
    "### How many leading roles (n=1) were available from the beginning of film history through 1980?"
   ]
  },
  {
   "cell_type": "code",
   "execution_count": 32,
   "metadata": {},
   "outputs": [
    {
     "name": "stdout",
     "output_type": "stream",
     "text": [
      "1183\n"
     ]
    }
   ],
   "source": [
    "lead = ((cast['n']==1) & (cast['year']==1980))\n",
    "lead = cast.loc[lead]\n",
    "print(len(lead['character']))"
   ]
  },
  {
   "cell_type": "code",
   "execution_count": null,
   "metadata": {},
   "outputs": [],
   "source": []
  },
  {
   "cell_type": "markdown",
   "metadata": {
    "collapsed": true
   },
   "source": [
    "### How many non-leading roles were available through from the beginning of film history through 1980?"
   ]
  },
  {
   "cell_type": "code",
   "execution_count": 33,
   "metadata": {},
   "outputs": [
    {
     "name": "stdout",
     "output_type": "stream",
     "text": [
      "22289\n"
     ]
    }
   ],
   "source": [
    "nonlead = ((cast['n']!=1) & (cast['year']==1980))\n",
    "nonlead = cast.loc[nonlead]\n",
    "print(len(nonlead['character']))"
   ]
  },
  {
   "cell_type": "code",
   "execution_count": null,
   "metadata": {},
   "outputs": [],
   "source": []
  },
  {
   "cell_type": "markdown",
   "metadata": {
    "collapsed": true
   },
   "source": [
    "### How many roles through 1980 were minor enough that they did not warrant a numeric \"n\" rank?"
   ]
  },
  {
   "cell_type": "code",
   "execution_count": 34,
   "metadata": {},
   "outputs": [
    {
     "name": "stdout",
     "output_type": "stream",
     "text": [
      "4466\n"
     ]
    }
   ],
   "source": [
    "minor = ((cast['n'].isnull()) & (cast['year']==1980))\n",
    "minor = cast.loc[minor]\n",
    "print(len(minor['character']))"
   ]
  },
  {
   "cell_type": "code",
   "execution_count": null,
   "metadata": {},
   "outputs": [],
   "source": []
  },
  {
   "cell_type": "code",
   "execution_count": null,
   "metadata": {},
   "outputs": [],
   "source": []
  }
 ],
 "metadata": {
  "kernelspec": {
   "display_name": "Python 3",
   "language": "python",
   "name": "python3"
  },
  "language_info": {
   "codemirror_mode": {
    "name": "ipython",
    "version": 3
   },
   "file_extension": ".py",
   "mimetype": "text/x-python",
   "name": "python",
   "nbconvert_exporter": "python",
   "pygments_lexer": "ipython3",
   "version": "3.7.6"
  }
 },
 "nbformat": 4,
 "nbformat_minor": 4
}
