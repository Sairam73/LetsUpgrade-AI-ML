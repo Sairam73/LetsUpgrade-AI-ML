{
 "cells": [
  {
   "cell_type": "raw",
   "metadata": {},
   "source": [
    "Write a program to subtract two complex numbers in python"
   ]
  },
  {
   "cell_type": "code",
   "execution_count": 1,
   "metadata": {},
   "outputs": [
    {
     "name": "stdout",
     "output_type": "stream",
     "text": [
      "(2+5j)\n"
     ]
    }
   ],
   "source": [
    "a = 7+3j\n",
    "b = 5-2j\n",
    "print(a-b)"
   ]
  },
  {
   "cell_type": "raw",
   "metadata": {},
   "source": [
    "Write a program to find the fourth root of a number."
   ]
  },
  {
   "cell_type": "code",
   "execution_count": 4,
   "metadata": {},
   "outputs": [
    {
     "name": "stdout",
     "output_type": "stream",
     "text": [
      "Enter the number : 2401\n",
      "The fourth root of number 2401 is : 7.0\n"
     ]
    }
   ],
   "source": [
    "num = int(input(\"Enter the number : \"))\n",
    "Froot = num**(1/4)\n",
    "print(\"The fourth root of number\",num, \"is :\",Froot)"
   ]
  },
  {
   "cell_type": "raw",
   "metadata": {},
   "source": [
    "Write a program to swap two numbers in Python with the help of a temporary variable."
   ]
  },
  {
   "cell_type": "code",
   "execution_count": 7,
   "metadata": {},
   "outputs": [
    {
     "name": "stdout",
     "output_type": "stream",
     "text": [
      "a = 2 b = 6\n"
     ]
    }
   ],
   "source": [
    "a = 6\n",
    "b = 2\n",
    "c = 0\n",
    "c = b\n",
    "b=a\n",
    "a=c\n",
    "print(\"a =\",a,\"b =\",b)"
   ]
  },
  {
   "cell_type": "raw",
   "metadata": {},
   "source": [
    "Write a program to swap two numbers in Python without using a temporary variable."
   ]
  },
  {
   "cell_type": "code",
   "execution_count": 9,
   "metadata": {},
   "outputs": [
    {
     "name": "stdout",
     "output_type": "stream",
     "text": [
      "a = 3 b = 8\n"
     ]
    }
   ],
   "source": [
    "a = 8\n",
    "b = 3\n",
    "a = a+b\n",
    "b = a-b\n",
    "a = a-b\n",
    "print(\"a =\",a,\"b =\",b)"
   ]
  },
  {
   "cell_type": "raw",
   "metadata": {},
   "source": [
    "Write a program to convert fahrenheit to kelvin and celsius both."
   ]
  },
  {
   "cell_type": "code",
   "execution_count": 11,
   "metadata": {},
   "outputs": [
    {
     "name": "stdout",
     "output_type": "stream",
     "text": [
      "For 98.4 Farenheit, Celsius is 36.89 Kelvin is 310.04\n"
     ]
    }
   ],
   "source": [
    "F = 98.4\n",
    "C = round (((98.4-32)*(5/9)),2)\n",
    "K = round (((98.4-32)*(5/9)+273.15),2)\n",
    "print(\"For\",F,\"Farenheit, Celsius is\",C,\"Kelvin is\",K)"
   ]
  },
  {
   "cell_type": "raw",
   "metadata": {},
   "source": [
    "Write a program to demonstrate all the available data types in Python."
   ]
  },
  {
   "cell_type": "code",
   "execution_count": 12,
   "metadata": {},
   "outputs": [
    {
     "name": "stdout",
     "output_type": "stream",
     "text": [
      "Type of a is <class 'int'> Type of b is <class 'float'> Type of c is <class 'str'> Type of d is <class 'complex'>\n"
     ]
    }
   ],
   "source": [
    "a = 76\n",
    "i = type(a)\n",
    "b = 76.4\n",
    "j = type(b)                                  \n",
    "c = \"Hello World\"                           \n",
    "k = type(c)\n",
    "d = 6+8j\n",
    "l = type(d)\n",
    "print(\"Type of a is\",i,\"Type of b is\",j,\"Type of c is\",k,\"Type of d is\",l)"
   ]
  },
  {
   "cell_type": "raw",
   "metadata": {},
   "source": [
    "Boolean has True or False and Binary has 0's & 1's"
   ]
  },
  {
   "cell_type": "raw",
   "metadata": {},
   "source": [
    "Create a Markdown cell in jupyter and list the steps discussed in the session by Dr. Darshan\n",
    "Ingle sir to create Github profile and upload Githubs Assignment link."
   ]
  },
  {
   "cell_type": "markdown",
   "metadata": {},
   "source": [
    "1. Login to Git hub\n",
    "2. Create a New Repo and name it as LetsUpgrade AI/ML (Public)\n",
    "3. Using add an existing code drag and drop your files in repository.\n",
    "4. Now copy the files link and paste in assignment submission form"
   ]
  }
 ],
 "metadata": {
  "kernelspec": {
   "display_name": "Python 3",
   "language": "python",
   "name": "python3"
  },
  "language_info": {
   "codemirror_mode": {
    "name": "ipython",
    "version": 3
   },
   "file_extension": ".py",
   "mimetype": "text/x-python",
   "name": "python",
   "nbconvert_exporter": "python",
   "pygments_lexer": "ipython3",
   "version": "3.7.6"
  }
 },
 "nbformat": 4,
 "nbformat_minor": 4
}
