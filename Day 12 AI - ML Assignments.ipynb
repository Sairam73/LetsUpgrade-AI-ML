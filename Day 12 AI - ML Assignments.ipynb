{
 "cells": [
  {
   "cell_type": "markdown",
   "metadata": {},
   "source": [
    "# Chi square test"
   ]
  },
  {
   "cell_type": "markdown",
   "metadata": {},
   "source": [
    "#  Attrition vs Business travel"
   ]
  },
  {
   "cell_type": "code",
   "execution_count": 1,
   "metadata": {},
   "outputs": [
    {
     "name": "stdout",
     "output_type": "stream",
     "text": [
      "70.07594084831366 6.07019702736392e-16\n",
      "Reject Null Hypothesis and accept Alternate Hypothesis \n",
      "There is a significant relation between attrition and business travel\n"
     ]
    }
   ],
   "source": [
    "import pandas as pd\n",
    "from scipy.stats import chi2_contingency\n",
    "data = pd.read_csv(\"C:/Users/sairam/Documents/aiml/Attrition assignment/general_data.csv\").dropna()\n",
    "\n",
    "# attrition against business travel using chi square test\n",
    "null_hypothesis = \"There is no significant relation between attrition and business travel\"\n",
    "alternate_hypothesis = \"There is a significant relation between attrition and business travel\"\n",
    "attrition_on_businesstravel = pd.crosstab(data.Attrition,data.BusinessTravel)\n",
    "stats,p,dof,expected = chi2_contingency(attrition_on_businesstravel)\n",
    "print(stats,p)\n",
    "if p<0.05:\n",
    "    print(\"Reject Null Hypothesis and accept Alternate Hypothesis \")\n",
    "    print(alternate_hypothesis)\n",
    "else:\n",
    "    print(\"Accept Null Hypothesis and reject Alternate Hypothesis \")\n",
    "    print(null_hypothesis)"
   ]
  },
  {
   "cell_type": "markdown",
   "metadata": {},
   "source": [
    "# Attrition vs Department"
   ]
  },
  {
   "cell_type": "code",
   "execution_count": 2,
   "metadata": {},
   "outputs": [
    {
     "name": "stdout",
     "output_type": "stream",
     "text": [
      "25.89432541916022 2.382970570769315e-06\n",
      "Reject Null Hypothesis and accept Alternate Hypothesis \n",
      "There is a significant relation between attrition and department\n"
     ]
    }
   ],
   "source": [
    "# attrition against department using chi square test\n",
    "null_hypothesis = \"There is no significant relation between attrition and department\"\n",
    "alternate_hypothesis = \"There is a significant relation between attrition and department\"\n",
    "attrition_on_Department = pd.crosstab(data.Attrition,data.Department)\n",
    "stats,p,dof,expected = chi2_contingency(attrition_on_Department)\n",
    "print(stats,p)\n",
    "if p<0.05:\n",
    "    print(\"Reject Null Hypothesis and accept Alternate Hypothesis \")\n",
    "    print(alternate_hypothesis)\n",
    "else:\n",
    "    print(\"Accept Null Hypothesis and reject Alternate Hypothesis \")\n",
    "    print(null_hypothesis)"
   ]
  },
  {
   "cell_type": "markdown",
   "metadata": {},
   "source": [
    "# Attrition vs Gender"
   ]
  },
  {
   "cell_type": "code",
   "execution_count": 3,
   "metadata": {},
   "outputs": [
    {
     "name": "stdout",
     "output_type": "stream",
     "text": [
      "1.3825823839528295 0.23966176275638887\n",
      "Accept Null Hypothesis and reject Alternate Hypothesis \n",
      "There is no significant relation between attrition and Gender\n"
     ]
    }
   ],
   "source": [
    "# attrition against Gender using chi square test\n",
    "null_hypothesis = \"There is no significant relation between attrition and Gender\"\n",
    "alternate_hypothesis = \"There is a significant relation between attrition and Gender\"\n",
    "attrition_on_Gender = pd.crosstab(data.Attrition,data.Gender)\n",
    "stats,p,dof,expected = chi2_contingency(attrition_on_Gender)\n",
    "print(stats,p)\n",
    "if p<0.05:\n",
    "    print(\"Reject Null Hypothesis and accept Alternate Hypothesis \")\n",
    "    print(alternate_hypothesis)\n",
    "else:\n",
    "    print(\"Accept Null Hypothesis and reject Alternate Hypothesis \")\n",
    "    print(null_hypothesis)"
   ]
  },
  {
   "cell_type": "markdown",
   "metadata": {},
   "source": [
    "# Attrition vs Educational field"
   ]
  },
  {
   "cell_type": "code",
   "execution_count": 4,
   "metadata": {},
   "outputs": [
    {
     "name": "stdout",
     "output_type": "stream",
     "text": [
      "43.132860148900384 3.472896220587872e-08\n",
      "Reject Null Hypothesis and accept Alternate Hypothesis \n",
      "There is a significant relation between attrition and EducationField\n"
     ]
    }
   ],
   "source": [
    "# attrition against EducationField using chi square test\n",
    "null_hypothesis = \"There is no significant relation between attrition and EducationField\"\n",
    "alternate_hypothesis = \"There is a significant relation between attrition and EducationField\"\n",
    "attrition_on_EducationField = pd.crosstab(data.Attrition,data.EducationField)\n",
    "stats,p,dof,expected = chi2_contingency(attrition_on_EducationField)\n",
    "print(stats,p)\n",
    "if p<0.05:\n",
    "    print(\"Reject Null Hypothesis and accept Alternate Hypothesis \")\n",
    "    print(alternate_hypothesis)\n",
    "else:\n",
    "    print(\"Accept Null Hypothesis and reject Alternate Hypothesis \")\n",
    "    print(null_hypothesis)"
   ]
  },
  {
   "cell_type": "markdown",
   "metadata": {},
   "source": [
    "# Attrition vs Job role"
   ]
  },
  {
   "cell_type": "code",
   "execution_count": 5,
   "metadata": {},
   "outputs": [
    {
     "name": "stdout",
     "output_type": "stream",
     "text": [
      "21.893724958847 0.005116592717526599\n",
      "Reject Null Hypothesis and accept Alternate Hypothesis \n",
      "There is a significant relation between attrition and JobRole\n"
     ]
    }
   ],
   "source": [
    "# attrition against JobRole using chi square test\n",
    "null_hypothesis = \"There is no significant relation between attrition and JobRole\"\n",
    "alternate_hypothesis = \"There is a significant relation between attrition and JobRole\"\n",
    "attrition_on_JobRole = pd.crosstab(data.Attrition,data.JobRole)\n",
    "stats,p,dof,expected = chi2_contingency(attrition_on_JobRole)\n",
    "print(stats,p)\n",
    "if p<0.05:\n",
    "    print(\"Reject Null Hypothesis and accept Alternate Hypothesis \")\n",
    "    print(alternate_hypothesis)\n",
    "else:\n",
    "    print(\"Accept Null Hypothesis and reject Alternate Hypothesis \")\n",
    "    print(null_hypothesis)"
   ]
  },
  {
   "cell_type": "markdown",
   "metadata": {},
   "source": [
    "# Attrition vs Marital status"
   ]
  },
  {
   "cell_type": "code",
   "execution_count": 6,
   "metadata": {},
   "outputs": [
    {
     "name": "stdout",
     "output_type": "stream",
     "text": [
      "133.85785802925156 8.573051828219379e-30\n",
      "Reject Null Hypothesis and accept Alternate Hypothesis \n",
      "There is a significant relation between attrition and MaritalStatus\n"
     ]
    }
   ],
   "source": [
    "# attrition against MaritalStatus using chi square test\n",
    "null_hypothesis = \"There is no significant relation between attrition and MaritalStatus\"\n",
    "alternate_hypothesis = \"There is a significant relation between attrition and MaritalStatus\"\n",
    "attrition_on_MaritalStatus = pd.crosstab(data.Attrition,data.MaritalStatus)\n",
    "stats,p,dof,expected = chi2_contingency(attrition_on_MaritalStatus)\n",
    "print(stats,p)\n",
    "if p<0.05:\n",
    "    print(\"Reject Null Hypothesis and accept Alternate Hypothesis \")\n",
    "    print(alternate_hypothesis)\n",
    "else:\n",
    "    print(\"Accept Null Hypothesis and reject Alternate Hypothesis \")\n",
    "    print(null_hypothesis)"
   ]
  },
  {
   "cell_type": "markdown",
   "metadata": {},
   "source": [
    "# Attrition vs Over18"
   ]
  },
  {
   "cell_type": "code",
   "execution_count": 7,
   "metadata": {},
   "outputs": [
    {
     "name": "stdout",
     "output_type": "stream",
     "text": [
      "0.0 1.0\n",
      "Accept Null Hypothesis and reject Alternate Hypothesis \n",
      "There is no significant relation between attrition and Over18\n"
     ]
    }
   ],
   "source": [
    "# attrition against Over18 using chi square test\n",
    "null_hypothesis = \"There is no significant relation between attrition and Over18\"\n",
    "alternate_hypothesis = \"There is a significant relation between attrition and Over18\"\n",
    "attrition_on_Over18 = pd.crosstab(data.Attrition,data.Over18)\n",
    "stats,p,dof,expected = chi2_contingency(attrition_on_Over18)\n",
    "print(stats,p)\n",
    "if p<0.05:\n",
    "    print(\"Reject Null Hypothesis and accept Alternate Hypothesis \")\n",
    "    print(alternate_hypothesis)\n",
    "else:\n",
    "    print(\"Accept Null Hypothesis and reject Alternate Hypothesis \")\n",
    "    print(null_hypothesis)"
   ]
  },
  {
   "cell_type": "markdown",
   "metadata": {},
   "source": [
    "# MANN-WHITNEY TEST "
   ]
  },
  {
   "cell_type": "code",
   "execution_count": 8,
   "metadata": {},
   "outputs": [
    {
     "data": {
      "text/html": [
       "<div>\n",
       "<style scoped>\n",
       "    .dataframe tbody tr th:only-of-type {\n",
       "        vertical-align: middle;\n",
       "    }\n",
       "\n",
       "    .dataframe tbody tr th {\n",
       "        vertical-align: top;\n",
       "    }\n",
       "\n",
       "    .dataframe thead th {\n",
       "        text-align: right;\n",
       "    }\n",
       "</style>\n",
       "<table border=\"1\" class=\"dataframe\">\n",
       "  <thead>\n",
       "    <tr style=\"text-align: right;\">\n",
       "      <th></th>\n",
       "      <th>Age</th>\n",
       "      <th>Attrition</th>\n",
       "      <th>BusinessTravel</th>\n",
       "      <th>Department</th>\n",
       "      <th>DistanceFromHome</th>\n",
       "      <th>Education</th>\n",
       "      <th>EducationField</th>\n",
       "      <th>EmployeeCount</th>\n",
       "      <th>EmployeeID</th>\n",
       "      <th>Gender</th>\n",
       "      <th>...</th>\n",
       "      <th>NumCompaniesWorked</th>\n",
       "      <th>Over18</th>\n",
       "      <th>PercentSalaryHike</th>\n",
       "      <th>StandardHours</th>\n",
       "      <th>StockOptionLevel</th>\n",
       "      <th>TotalWorkingYears</th>\n",
       "      <th>TrainingTimesLastYear</th>\n",
       "      <th>YearsAtCompany</th>\n",
       "      <th>YearsSinceLastPromotion</th>\n",
       "      <th>YearsWithCurrManager</th>\n",
       "    </tr>\n",
       "  </thead>\n",
       "  <tbody>\n",
       "    <tr>\n",
       "      <th>1</th>\n",
       "      <td>31</td>\n",
       "      <td>1</td>\n",
       "      <td>Travel_Frequently</td>\n",
       "      <td>Research &amp; Development</td>\n",
       "      <td>10</td>\n",
       "      <td>1</td>\n",
       "      <td>Life Sciences</td>\n",
       "      <td>1</td>\n",
       "      <td>2</td>\n",
       "      <td>Female</td>\n",
       "      <td>...</td>\n",
       "      <td>0.0</td>\n",
       "      <td>Y</td>\n",
       "      <td>23</td>\n",
       "      <td>8</td>\n",
       "      <td>1</td>\n",
       "      <td>6.0</td>\n",
       "      <td>3</td>\n",
       "      <td>5</td>\n",
       "      <td>1</td>\n",
       "      <td>4</td>\n",
       "    </tr>\n",
       "    <tr>\n",
       "      <th>6</th>\n",
       "      <td>28</td>\n",
       "      <td>1</td>\n",
       "      <td>Travel_Rarely</td>\n",
       "      <td>Research &amp; Development</td>\n",
       "      <td>11</td>\n",
       "      <td>2</td>\n",
       "      <td>Medical</td>\n",
       "      <td>1</td>\n",
       "      <td>7</td>\n",
       "      <td>Male</td>\n",
       "      <td>...</td>\n",
       "      <td>2.0</td>\n",
       "      <td>Y</td>\n",
       "      <td>20</td>\n",
       "      <td>8</td>\n",
       "      <td>1</td>\n",
       "      <td>5.0</td>\n",
       "      <td>2</td>\n",
       "      <td>0</td>\n",
       "      <td>0</td>\n",
       "      <td>0</td>\n",
       "    </tr>\n",
       "    <tr>\n",
       "      <th>13</th>\n",
       "      <td>47</td>\n",
       "      <td>1</td>\n",
       "      <td>Non-Travel</td>\n",
       "      <td>Research &amp; Development</td>\n",
       "      <td>1</td>\n",
       "      <td>1</td>\n",
       "      <td>Medical</td>\n",
       "      <td>1</td>\n",
       "      <td>14</td>\n",
       "      <td>Male</td>\n",
       "      <td>...</td>\n",
       "      <td>1.0</td>\n",
       "      <td>Y</td>\n",
       "      <td>11</td>\n",
       "      <td>8</td>\n",
       "      <td>2</td>\n",
       "      <td>10.0</td>\n",
       "      <td>4</td>\n",
       "      <td>10</td>\n",
       "      <td>9</td>\n",
       "      <td>9</td>\n",
       "    </tr>\n",
       "    <tr>\n",
       "      <th>28</th>\n",
       "      <td>44</td>\n",
       "      <td>1</td>\n",
       "      <td>Travel_Frequently</td>\n",
       "      <td>Research &amp; Development</td>\n",
       "      <td>1</td>\n",
       "      <td>2</td>\n",
       "      <td>Medical</td>\n",
       "      <td>1</td>\n",
       "      <td>29</td>\n",
       "      <td>Male</td>\n",
       "      <td>...</td>\n",
       "      <td>3.0</td>\n",
       "      <td>Y</td>\n",
       "      <td>14</td>\n",
       "      <td>8</td>\n",
       "      <td>1</td>\n",
       "      <td>19.0</td>\n",
       "      <td>2</td>\n",
       "      <td>1</td>\n",
       "      <td>0</td>\n",
       "      <td>0</td>\n",
       "    </tr>\n",
       "    <tr>\n",
       "      <th>30</th>\n",
       "      <td>26</td>\n",
       "      <td>1</td>\n",
       "      <td>Travel_Rarely</td>\n",
       "      <td>Research &amp; Development</td>\n",
       "      <td>4</td>\n",
       "      <td>3</td>\n",
       "      <td>Medical</td>\n",
       "      <td>1</td>\n",
       "      <td>31</td>\n",
       "      <td>Male</td>\n",
       "      <td>...</td>\n",
       "      <td>2.0</td>\n",
       "      <td>Y</td>\n",
       "      <td>11</td>\n",
       "      <td>8</td>\n",
       "      <td>0</td>\n",
       "      <td>5.0</td>\n",
       "      <td>5</td>\n",
       "      <td>3</td>\n",
       "      <td>0</td>\n",
       "      <td>2</td>\n",
       "    </tr>\n",
       "    <tr>\n",
       "      <th>...</th>\n",
       "      <td>...</td>\n",
       "      <td>...</td>\n",
       "      <td>...</td>\n",
       "      <td>...</td>\n",
       "      <td>...</td>\n",
       "      <td>...</td>\n",
       "      <td>...</td>\n",
       "      <td>...</td>\n",
       "      <td>...</td>\n",
       "      <td>...</td>\n",
       "      <td>...</td>\n",
       "      <td>...</td>\n",
       "      <td>...</td>\n",
       "      <td>...</td>\n",
       "      <td>...</td>\n",
       "      <td>...</td>\n",
       "      <td>...</td>\n",
       "      <td>...</td>\n",
       "      <td>...</td>\n",
       "      <td>...</td>\n",
       "      <td>...</td>\n",
       "    </tr>\n",
       "    <tr>\n",
       "      <th>4381</th>\n",
       "      <td>29</td>\n",
       "      <td>1</td>\n",
       "      <td>Travel_Rarely</td>\n",
       "      <td>Research &amp; Development</td>\n",
       "      <td>7</td>\n",
       "      <td>1</td>\n",
       "      <td>Life Sciences</td>\n",
       "      <td>1</td>\n",
       "      <td>4382</td>\n",
       "      <td>Female</td>\n",
       "      <td>...</td>\n",
       "      <td>1.0</td>\n",
       "      <td>Y</td>\n",
       "      <td>21</td>\n",
       "      <td>8</td>\n",
       "      <td>0</td>\n",
       "      <td>4.0</td>\n",
       "      <td>2</td>\n",
       "      <td>4</td>\n",
       "      <td>0</td>\n",
       "      <td>1</td>\n",
       "    </tr>\n",
       "    <tr>\n",
       "      <th>4386</th>\n",
       "      <td>33</td>\n",
       "      <td>1</td>\n",
       "      <td>Travel_Rarely</td>\n",
       "      <td>Sales</td>\n",
       "      <td>11</td>\n",
       "      <td>4</td>\n",
       "      <td>Marketing</td>\n",
       "      <td>1</td>\n",
       "      <td>4387</td>\n",
       "      <td>Male</td>\n",
       "      <td>...</td>\n",
       "      <td>5.0</td>\n",
       "      <td>Y</td>\n",
       "      <td>21</td>\n",
       "      <td>8</td>\n",
       "      <td>0</td>\n",
       "      <td>8.0</td>\n",
       "      <td>2</td>\n",
       "      <td>5</td>\n",
       "      <td>0</td>\n",
       "      <td>4</td>\n",
       "    </tr>\n",
       "    <tr>\n",
       "      <th>4388</th>\n",
       "      <td>33</td>\n",
       "      <td>1</td>\n",
       "      <td>Travel_Rarely</td>\n",
       "      <td>Sales</td>\n",
       "      <td>1</td>\n",
       "      <td>3</td>\n",
       "      <td>Life Sciences</td>\n",
       "      <td>1</td>\n",
       "      <td>4389</td>\n",
       "      <td>Male</td>\n",
       "      <td>...</td>\n",
       "      <td>7.0</td>\n",
       "      <td>Y</td>\n",
       "      <td>11</td>\n",
       "      <td>8</td>\n",
       "      <td>0</td>\n",
       "      <td>13.0</td>\n",
       "      <td>2</td>\n",
       "      <td>9</td>\n",
       "      <td>1</td>\n",
       "      <td>7</td>\n",
       "    </tr>\n",
       "    <tr>\n",
       "      <th>4391</th>\n",
       "      <td>32</td>\n",
       "      <td>1</td>\n",
       "      <td>Travel_Rarely</td>\n",
       "      <td>Sales</td>\n",
       "      <td>23</td>\n",
       "      <td>1</td>\n",
       "      <td>Life Sciences</td>\n",
       "      <td>1</td>\n",
       "      <td>4392</td>\n",
       "      <td>Male</td>\n",
       "      <td>...</td>\n",
       "      <td>0.0</td>\n",
       "      <td>Y</td>\n",
       "      <td>11</td>\n",
       "      <td>8</td>\n",
       "      <td>0</td>\n",
       "      <td>4.0</td>\n",
       "      <td>2</td>\n",
       "      <td>3</td>\n",
       "      <td>1</td>\n",
       "      <td>2</td>\n",
       "    </tr>\n",
       "    <tr>\n",
       "      <th>4402</th>\n",
       "      <td>37</td>\n",
       "      <td>1</td>\n",
       "      <td>Travel_Frequently</td>\n",
       "      <td>Sales</td>\n",
       "      <td>2</td>\n",
       "      <td>3</td>\n",
       "      <td>Marketing</td>\n",
       "      <td>1</td>\n",
       "      <td>4403</td>\n",
       "      <td>Male</td>\n",
       "      <td>...</td>\n",
       "      <td>6.0</td>\n",
       "      <td>Y</td>\n",
       "      <td>11</td>\n",
       "      <td>8</td>\n",
       "      <td>1</td>\n",
       "      <td>17.0</td>\n",
       "      <td>2</td>\n",
       "      <td>1</td>\n",
       "      <td>0</td>\n",
       "      <td>0</td>\n",
       "    </tr>\n",
       "  </tbody>\n",
       "</table>\n",
       "<p>705 rows × 24 columns</p>\n",
       "</div>"
      ],
      "text/plain": [
       "      Age  Attrition     BusinessTravel              Department  \\\n",
       "1      31          1  Travel_Frequently  Research & Development   \n",
       "6      28          1      Travel_Rarely  Research & Development   \n",
       "13     47          1         Non-Travel  Research & Development   \n",
       "28     44          1  Travel_Frequently  Research & Development   \n",
       "30     26          1      Travel_Rarely  Research & Development   \n",
       "...   ...        ...                ...                     ...   \n",
       "4381   29          1      Travel_Rarely  Research & Development   \n",
       "4386   33          1      Travel_Rarely                   Sales   \n",
       "4388   33          1      Travel_Rarely                   Sales   \n",
       "4391   32          1      Travel_Rarely                   Sales   \n",
       "4402   37          1  Travel_Frequently                   Sales   \n",
       "\n",
       "      DistanceFromHome  Education EducationField  EmployeeCount  EmployeeID  \\\n",
       "1                   10          1  Life Sciences              1           2   \n",
       "6                   11          2        Medical              1           7   \n",
       "13                   1          1        Medical              1          14   \n",
       "28                   1          2        Medical              1          29   \n",
       "30                   4          3        Medical              1          31   \n",
       "...                ...        ...            ...            ...         ...   \n",
       "4381                 7          1  Life Sciences              1        4382   \n",
       "4386                11          4      Marketing              1        4387   \n",
       "4388                 1          3  Life Sciences              1        4389   \n",
       "4391                23          1  Life Sciences              1        4392   \n",
       "4402                 2          3      Marketing              1        4403   \n",
       "\n",
       "      Gender  ...  NumCompaniesWorked Over18 PercentSalaryHike  StandardHours  \\\n",
       "1     Female  ...                 0.0      Y                23              8   \n",
       "6       Male  ...                 2.0      Y                20              8   \n",
       "13      Male  ...                 1.0      Y                11              8   \n",
       "28      Male  ...                 3.0      Y                14              8   \n",
       "30      Male  ...                 2.0      Y                11              8   \n",
       "...      ...  ...                 ...    ...               ...            ...   \n",
       "4381  Female  ...                 1.0      Y                21              8   \n",
       "4386    Male  ...                 5.0      Y                21              8   \n",
       "4388    Male  ...                 7.0      Y                11              8   \n",
       "4391    Male  ...                 0.0      Y                11              8   \n",
       "4402    Male  ...                 6.0      Y                11              8   \n",
       "\n",
       "      StockOptionLevel TotalWorkingYears  TrainingTimesLastYear  \\\n",
       "1                    1               6.0                      3   \n",
       "6                    1               5.0                      2   \n",
       "13                   2              10.0                      4   \n",
       "28                   1              19.0                      2   \n",
       "30                   0               5.0                      5   \n",
       "...                ...               ...                    ...   \n",
       "4381                 0               4.0                      2   \n",
       "4386                 0               8.0                      2   \n",
       "4388                 0              13.0                      2   \n",
       "4391                 0               4.0                      2   \n",
       "4402                 1              17.0                      2   \n",
       "\n",
       "      YearsAtCompany  YearsSinceLastPromotion  YearsWithCurrManager  \n",
       "1                  5                        1                     4  \n",
       "6                  0                        0                     0  \n",
       "13                10                        9                     9  \n",
       "28                 1                        0                     0  \n",
       "30                 3                        0                     2  \n",
       "...              ...                      ...                   ...  \n",
       "4381               4                        0                     1  \n",
       "4386               5                        0                     4  \n",
       "4388               9                        1                     7  \n",
       "4391               3                        1                     2  \n",
       "4402               1                        0                     0  \n",
       "\n",
       "[705 rows x 24 columns]"
      ]
     },
     "execution_count": 8,
     "metadata": {},
     "output_type": "execute_result"
    }
   ],
   "source": [
    "from scipy.stats import pearsonr\n",
    "from sklearn.preprocessing import LabelEncoder\n",
    "le = LabelEncoder()\n",
    "data[\"Attrition\"] = le.fit_transform(data[\"Attrition\"])\n",
    "data_yes = data[data[\"Attrition\"]==1]\n",
    "data_no = data[data[\"Attrition\"]==0]\n",
    "data_yes"
   ]
  },
  {
   "cell_type": "markdown",
   "metadata": {},
   "source": [
    "# Attrition vs Distance from home"
   ]
  },
  {
   "cell_type": "code",
   "execution_count": 9,
   "metadata": {},
   "outputs": [
    {
     "name": "stdout",
     "output_type": "stream",
     "text": [
      "1295261.0 0.488538986087403\n",
      "Accept Null Hypothesis and reject Alternate Hypothesis \n",
      "There is no significant relation between attrition and distance from home\n"
     ]
    }
   ],
   "source": [
    "from scipy.stats import mannwhitneyu\n",
    "a1 = data_yes.DistanceFromHome\n",
    "a2 = data_no.DistanceFromHome\n",
    "stats,p = mannwhitneyu(a1,a2)\n",
    "null_hypothesis = \"There is no significant relation between attrition and distance from home\"\n",
    "alternate_hypothesis = \"There is a significant relation between attrition and distance from home\"\n",
    "print(stats,p)\n",
    "if p<0.05:\n",
    "    print(\"Reject Null Hypothesis and accept Alternate Hypothesis \")\n",
    "    print(alternate_hypothesis)\n",
    "else:\n",
    "    print(\"Accept Null Hypothesis and reject Alternate Hypothesis \")\n",
    "    print(null_hypothesis)"
   ]
  },
  {
   "cell_type": "markdown",
   "metadata": {},
   "source": [
    "## Attrition vs Income"
   ]
  },
  {
   "cell_type": "code",
   "execution_count": 10,
   "metadata": {},
   "outputs": [
    {
     "name": "stdout",
     "output_type": "stream",
     "text": [
      "1249573.5 0.06508807631576838\n",
      "Accept Null Hypothesis and reject Alternate Hypothesis \n",
      "There is no significant relation between attrition and Income\n"
     ]
    }
   ],
   "source": [
    "a3 = data_yes.MonthlyIncome \n",
    "a4 = data_no.MonthlyIncome \n",
    "stats,p = mannwhitneyu(a3,a4)\n",
    "null_hypothesis = \"There is no significant relation between attrition and Income\"\n",
    "alternate_hypothesis = \"There is a significant relation between attrition and Income\"\n",
    "print(stats,p)\n",
    "if p<0.05:\n",
    "    print(\"Reject Null Hypothesis and accept Alternate Hypothesis \")\n",
    "    print(alternate_hypothesis)\n",
    "else:\n",
    "    print(\"Accept Null Hypothesis and reject Alternate Hypothesis \")\n",
    "    print(null_hypothesis)"
   ]
  },
  {
   "cell_type": "markdown",
   "metadata": {},
   "source": [
    "# Attrition vs Total Working years"
   ]
  },
  {
   "cell_type": "code",
   "execution_count": 11,
   "metadata": {},
   "outputs": [
    {
     "name": "stdout",
     "output_type": "stream",
     "text": [
      "895173.5 2.741211827689903e-39\n",
      "Reject Null Hypothesis and accept Alternate Hypothesis \n",
      "There is a significant relation between Attrition and TotalWorkingYears\n"
     ]
    }
   ],
   "source": [
    "ab3 = data_yes.TotalWorkingYears \n",
    "ab4 = data_no.TotalWorkingYears \n",
    "stats,p = mannwhitneyu(ab3,ab4)\n",
    "null_hypothesis = \"There is no significant relation between Attrition and TotalWorkingYears\"\n",
    "alternate_hypothesis = \"There is a significant relation between Attrition and TotalWorkingYears\"\n",
    "print(stats,p)\n",
    "if p<0.05:\n",
    "    print(\"Reject Null Hypothesis and accept Alternate Hypothesis \")\n",
    "    print(alternate_hypothesis)\n",
    "else:\n",
    "    print(\"Accept Null Hypothesis and reject Alternate Hypothesis \")\n",
    "    print(null_hypothesis)"
   ]
  },
  {
   "cell_type": "markdown",
   "metadata": {},
   "source": [
    "# Attrition vs years at company"
   ]
  },
  {
   "cell_type": "code",
   "execution_count": 12,
   "metadata": {},
   "outputs": [
    {
     "name": "stdout",
     "output_type": "stream",
     "text": [
      "912579.0 3.3433144809752036e-36\n",
      "Reject Null Hypothesis and accept Alternate Hypothesis \n",
      "There is a significant relation between Attrition and YearsAtCompany\n"
     ]
    }
   ],
   "source": [
    "a5 = data_yes.YearsAtCompany \n",
    "a6 = data_no.YearsAtCompany \n",
    "stats,p = mannwhitneyu(a5,a6)\n",
    "null_hypothesis = \"There is no significant relation between Attrition and YearsAtCompany\"\n",
    "alternate_hypothesis = \"There is a significant relation between Attrition and YearsAtCompany\"\n",
    "print(stats,p)\n",
    "if p<0.05:\n",
    "    print(\"Reject Null Hypothesis and accept Alternate Hypothesis \")\n",
    "    print(alternate_hypothesis)\n",
    "else:\n",
    "    print(\"Accept Null Hypothesis and reject Alternate Hypothesis \")\n",
    "    print(null_hypothesis)"
   ]
  },
  {
   "cell_type": "markdown",
   "metadata": {},
   "source": [
    "# Attrition vs years with curr manager"
   ]
  },
  {
   "cell_type": "code",
   "execution_count": 13,
   "metadata": {},
   "outputs": [
    {
     "name": "stdout",
     "output_type": "stream",
     "text": [
      "945958.5 5.420302388722274e-31\n",
      "Reject Null Hypothesis and accept Alternate Hypothesis \n",
      "There is a significant relation between Attrition and YearsWithCurrManager\n"
     ]
    }
   ],
   "source": [
    "a7 = data_yes.YearsWithCurrManager \n",
    "a8 = data_no.YearsWithCurrManager \n",
    "stats,p = mannwhitneyu(a7,a8)\n",
    "null_hypothesis = \"There is no significant relation between Attrition and YearsWithCurrManager\"\n",
    "alternate_hypothesis = \"There is a significant relation between Attrition and YearsWithCurrManager\"\n",
    "print(stats,p)\n",
    "if p<0.05:\n",
    "    print(\"Reject Null Hypothesis and accept Alternate Hypothesis \")\n",
    "    print(alternate_hypothesis)\n",
    "else:\n",
    "    print(\"Accept Null Hypothesis and reject Alternate Hypothesis \")\n",
    "    print(null_hypothesis)"
   ]
  },
  {
   "cell_type": "code",
   "execution_count": null,
   "metadata": {},
   "outputs": [],
   "source": []
  }
 ],
 "metadata": {
  "kernelspec": {
   "display_name": "Python 3",
   "language": "python",
   "name": "python3"
  },
  "language_info": {
   "codemirror_mode": {
    "name": "ipython",
    "version": 3
   },
   "file_extension": ".py",
   "mimetype": "text/x-python",
   "name": "python",
   "nbconvert_exporter": "python",
   "pygments_lexer": "ipython3",
   "version": "3.7.6"
  }
 },
 "nbformat": 4,
 "nbformat_minor": 4
}
